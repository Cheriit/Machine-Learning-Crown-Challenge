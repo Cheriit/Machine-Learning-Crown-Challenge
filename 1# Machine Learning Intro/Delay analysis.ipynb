{
 "cells": [
  {
   "cell_type": "markdown",
   "metadata": {},
   "source": [
    "# Delay analysis of Cracows trams"
   ]
  },
  {
   "cell_type": "code",
   "execution_count": 0,
   "metadata": {
    "colab": {},
    "colab_type": "code",
    "id": "y4ffGkqX_FKP"
   },
   "outputs": [],
   "source": [
    "import numpy as np\n",
    "import pandas as pd\n",
    "\n",
    "from sklearn.tree import DecisionTreeRegressor\n",
    "from sklearn.ensemble import RandomForestRegressor\n",
    "from sklearn.model_selection import cross_val_score\n",
    "\n",
    "%matplotlib inline"
   ]
  },
  {
   "cell_type": "code",
   "execution_count": 0,
   "metadata": {
    "colab": {
     "base_uri": "https://localhost:8080/",
     "height": 299
    },
    "colab_type": "code",
    "executionInfo": {
     "elapsed": 1983,
     "status": "ok",
     "timestamp": 1553354448716,
     "user": {
      "displayName": "Cherit",
      "photoUrl": "https://lh4.googleusercontent.com/-2H1M0GCKJXk/AAAAAAAAAAI/AAAAAAAAEP0/Bt8vHFi-zhI/s64/photo.jpg",
      "userId": "06592389087717938820"
     },
     "user_tz": -60
    },
    "id": "z06APMwLA4im",
    "outputId": "7e607a4c-74e8-486a-b230-edc6a18b6c8b"
   },
   "outputs": [
    {
     "data": {
      "text/html": [
       "<div>\n",
       "<style scoped>\n",
       "    .dataframe tbody tr th:only-of-type {\n",
       "        vertical-align: middle;\n",
       "    }\n",
       "\n",
       "    .dataframe tbody tr th {\n",
       "        vertical-align: top;\n",
       "    }\n",
       "\n",
       "    .dataframe thead th {\n",
       "        text-align: right;\n",
       "    }\n",
       "</style>\n",
       "<table border=\"1\" class=\"dataframe\">\n",
       "  <thead>\n",
       "    <tr style=\"text-align: right;\">\n",
       "      <th></th>\n",
       "      <th>index</th>\n",
       "      <th>time_stamp</th>\n",
       "      <th>stop</th>\n",
       "      <th>stopName</th>\n",
       "      <th>number</th>\n",
       "      <th>direction</th>\n",
       "      <th>plannedTime</th>\n",
       "      <th>vehicleId</th>\n",
       "      <th>tripId</th>\n",
       "      <th>status</th>\n",
       "      <th>delay</th>\n",
       "      <th>seq_num</th>\n",
       "    </tr>\n",
       "  </thead>\n",
       "  <tbody>\n",
       "    <tr>\n",
       "      <th>0</th>\n",
       "      <td>1</td>\n",
       "      <td>2018-07-23 06:00:45</td>\n",
       "      <td>378</td>\n",
       "      <td>Os.Piastów</td>\n",
       "      <td>21</td>\n",
       "      <td>Kopiec Wandy</td>\n",
       "      <td>2018-07-23 05:59:00</td>\n",
       "      <td>NaN</td>\n",
       "      <td>6351558574044883205</td>\n",
       "      <td>PLANNED</td>\n",
       "      <td>1</td>\n",
       "      <td>1.0</td>\n",
       "    </tr>\n",
       "    <tr>\n",
       "      <th>1</th>\n",
       "      <td>1</td>\n",
       "      <td>2018-07-23 06:00:47</td>\n",
       "      <td>612</td>\n",
       "      <td>Borsucza</td>\n",
       "      <td>22</td>\n",
       "      <td>Walcownia</td>\n",
       "      <td>2018-07-23 06:00:00</td>\n",
       "      <td>6.352185e+18</td>\n",
       "      <td>6351558574044899587</td>\n",
       "      <td>STOPPING</td>\n",
       "      <td>0</td>\n",
       "      <td>7.0</td>\n",
       "    </tr>\n",
       "    <tr>\n",
       "      <th>2</th>\n",
       "      <td>1</td>\n",
       "      <td>2018-07-23 06:00:48</td>\n",
       "      <td>572</td>\n",
       "      <td>Smolki</td>\n",
       "      <td>11</td>\n",
       "      <td>Czerwone Maki P+R</td>\n",
       "      <td>2018-07-23 06:00:00</td>\n",
       "      <td>6.352185e+18</td>\n",
       "      <td>6351558574044670211</td>\n",
       "      <td>STOPPING</td>\n",
       "      <td>0</td>\n",
       "      <td>10.0</td>\n",
       "    </tr>\n",
       "    <tr>\n",
       "      <th>3</th>\n",
       "      <td>1</td>\n",
       "      <td>2018-07-23 06:00:49</td>\n",
       "      <td>319</td>\n",
       "      <td>Jubilat</td>\n",
       "      <td>1</td>\n",
       "      <td>Wzgórza K.</td>\n",
       "      <td>2018-07-23 05:59:00</td>\n",
       "      <td>NaN</td>\n",
       "      <td>6351558574044363010</td>\n",
       "      <td>PLANNED</td>\n",
       "      <td>1</td>\n",
       "      <td>3.0</td>\n",
       "    </tr>\n",
       "    <tr>\n",
       "      <th>4</th>\n",
       "      <td>1</td>\n",
       "      <td>2018-07-23 06:00:49</td>\n",
       "      <td>322</td>\n",
       "      <td>Filharmonia</td>\n",
       "      <td>8</td>\n",
       "      <td>Bronowice Małe</td>\n",
       "      <td>2018-07-23 06:01:00</td>\n",
       "      <td>6.352185e+18</td>\n",
       "      <td>6351558574044592386</td>\n",
       "      <td>STOPPING</td>\n",
       "      <td>0</td>\n",
       "      <td>15.0</td>\n",
       "    </tr>\n",
       "  </tbody>\n",
       "</table>\n",
       "</div>"
      ],
      "text/plain": [
       "   index           time_stamp  stop     stopName  number          direction  \\\n",
       "0      1  2018-07-23 06:00:45   378   Os.Piastów      21       Kopiec Wandy   \n",
       "1      1  2018-07-23 06:00:47   612     Borsucza      22          Walcownia   \n",
       "2      1  2018-07-23 06:00:48   572       Smolki      11  Czerwone Maki P+R   \n",
       "3      1  2018-07-23 06:00:49   319      Jubilat       1         Wzgórza K.   \n",
       "4      1  2018-07-23 06:00:49   322  Filharmonia       8     Bronowice Małe   \n",
       "\n",
       "           plannedTime     vehicleId               tripId    status  delay  \\\n",
       "0  2018-07-23 05:59:00           NaN  6351558574044883205   PLANNED      1   \n",
       "1  2018-07-23 06:00:00  6.352185e+18  6351558574044899587  STOPPING      0   \n",
       "2  2018-07-23 06:00:00  6.352185e+18  6351558574044670211  STOPPING      0   \n",
       "3  2018-07-23 05:59:00           NaN  6351558574044363010   PLANNED      1   \n",
       "4  2018-07-23 06:01:00  6.352185e+18  6351558574044592386  STOPPING      0   \n",
       "\n",
       "   seq_num  \n",
       "0      1.0  \n",
       "1      7.0  \n",
       "2     10.0  \n",
       "3      3.0  \n",
       "4     15.0  "
      ]
     },
     "execution_count": 26,
     "metadata": {
      "tags": []
     },
     "output_type": "execute_result"
    }
   ],
   "source": [
    "df = pd.read_csv('https://raw.githubusercontent.com/aczepielik/KRKtram/master/reports/report_07-23.csv')\n",
    "df1 = pd.read_csv('https://raw.githubusercontent.com/aczepielik/KRKtram/master/reports/report_07-24.csv')\n",
    "df = pd.concat([df, df1])\n",
    "\n",
    "df.head()"
   ]
  },
  {
   "cell_type": "code",
   "execution_count": 0,
   "metadata": {
    "colab": {
     "base_uri": "https://localhost:8080/",
     "height": 611
    },
    "colab_type": "code",
    "executionInfo": {
     "elapsed": 1856,
     "status": "ok",
     "timestamp": 1553352685044,
     "user": {
      "displayName": "Cherit",
      "photoUrl": "https://lh4.googleusercontent.com/-2H1M0GCKJXk/AAAAAAAAAAI/AAAAAAAAEP0/Bt8vHFi-zhI/s64/photo.jpg",
      "userId": "06592389087717938820"
     },
     "user_tz": -60
    },
    "id": "3gsz_kQhBNz4",
    "outputId": "d52b5e20-fb88-424d-9160-6d40aebe3bba"
   },
   "outputs": [
    {
     "data": {
      "text/html": [
       "<div>\n",
       "<style scoped>\n",
       "    .dataframe tbody tr th:only-of-type {\n",
       "        vertical-align: middle;\n",
       "    }\n",
       "\n",
       "    .dataframe tbody tr th {\n",
       "        vertical-align: top;\n",
       "    }\n",
       "\n",
       "    .dataframe thead th {\n",
       "        text-align: right;\n",
       "    }\n",
       "</style>\n",
       "<table border=\"1\" class=\"dataframe\">\n",
       "  <thead>\n",
       "    <tr style=\"text-align: right;\">\n",
       "      <th></th>\n",
       "      <th>index</th>\n",
       "      <th>time_stamp</th>\n",
       "      <th>stop</th>\n",
       "      <th>stopName</th>\n",
       "      <th>number</th>\n",
       "      <th>direction</th>\n",
       "      <th>plannedTime</th>\n",
       "      <th>vehicleId</th>\n",
       "      <th>tripId</th>\n",
       "      <th>status</th>\n",
       "      <th>delay</th>\n",
       "      <th>seq_num</th>\n",
       "    </tr>\n",
       "  </thead>\n",
       "  <tbody>\n",
       "    <tr>\n",
       "      <th>0</th>\n",
       "      <td>1</td>\n",
       "      <td>2018-07-23 06:00:45</td>\n",
       "      <td>378</td>\n",
       "      <td>Os.Piastów</td>\n",
       "      <td>21</td>\n",
       "      <td>Kopiec Wandy</td>\n",
       "      <td>2018-07-23 05:59:00</td>\n",
       "      <td>NaN</td>\n",
       "      <td>6351558574044883205</td>\n",
       "      <td>PLANNED</td>\n",
       "      <td>1</td>\n",
       "      <td>1.0</td>\n",
       "    </tr>\n",
       "    <tr>\n",
       "      <th>70</th>\n",
       "      <td>3</td>\n",
       "      <td>2018-07-23 06:01:42</td>\n",
       "      <td>379</td>\n",
       "      <td>Piasta Kołodzieja</td>\n",
       "      <td>21</td>\n",
       "      <td>Kopiec Wandy</td>\n",
       "      <td>2018-07-23 06:00:00</td>\n",
       "      <td>NaN</td>\n",
       "      <td>6351558574044883205</td>\n",
       "      <td>PLANNED</td>\n",
       "      <td>1</td>\n",
       "      <td>2.0</td>\n",
       "    </tr>\n",
       "    <tr>\n",
       "      <th>135</th>\n",
       "      <td>6</td>\n",
       "      <td>2018-07-23 06:02:46</td>\n",
       "      <td>382</td>\n",
       "      <td>Kleeberga</td>\n",
       "      <td>21</td>\n",
       "      <td>Kopiec Wandy</td>\n",
       "      <td>2018-07-23 06:01:00</td>\n",
       "      <td>NaN</td>\n",
       "      <td>6351558574044883205</td>\n",
       "      <td>PLANNED</td>\n",
       "      <td>1</td>\n",
       "      <td>3.0</td>\n",
       "    </tr>\n",
       "    <tr>\n",
       "      <th>284</th>\n",
       "      <td>12</td>\n",
       "      <td>2018-07-23 06:04:54</td>\n",
       "      <td>388</td>\n",
       "      <td>Dunikowskiego</td>\n",
       "      <td>21</td>\n",
       "      <td>Kopiec Wandy</td>\n",
       "      <td>2018-07-23 06:03:00</td>\n",
       "      <td>NaN</td>\n",
       "      <td>6351558574044883205</td>\n",
       "      <td>PLANNED</td>\n",
       "      <td>1</td>\n",
       "      <td>4.0</td>\n",
       "    </tr>\n",
       "    <tr>\n",
       "      <th>414</th>\n",
       "      <td>17</td>\n",
       "      <td>2018-07-23 06:06:40</td>\n",
       "      <td>2539</td>\n",
       "      <td>Rondo Hipokratesa</td>\n",
       "      <td>21</td>\n",
       "      <td>Kopiec Wandy</td>\n",
       "      <td>2018-07-23 06:05:00</td>\n",
       "      <td>NaN</td>\n",
       "      <td>6351558574044883205</td>\n",
       "      <td>PLANNED</td>\n",
       "      <td>1</td>\n",
       "      <td>5.0</td>\n",
       "    </tr>\n",
       "    <tr>\n",
       "      <th>493</th>\n",
       "      <td>20</td>\n",
       "      <td>2018-07-23 06:07:43</td>\n",
       "      <td>392</td>\n",
       "      <td>DH Wanda</td>\n",
       "      <td>21</td>\n",
       "      <td>Kopiec Wandy</td>\n",
       "      <td>2018-07-23 06:06:00</td>\n",
       "      <td>NaN</td>\n",
       "      <td>6351558574044883205</td>\n",
       "      <td>PLANNED</td>\n",
       "      <td>1</td>\n",
       "      <td>6.0</td>\n",
       "    </tr>\n",
       "    <tr>\n",
       "      <th>697</th>\n",
       "      <td>28</td>\n",
       "      <td>2018-07-23 06:10:39</td>\n",
       "      <td>2745</td>\n",
       "      <td>Rondo Kocmyrzowskie im. Ks. Gorzelanego</td>\n",
       "      <td>21</td>\n",
       "      <td>Kopiec Wandy</td>\n",
       "      <td>2018-07-23 06:09:00</td>\n",
       "      <td>NaN</td>\n",
       "      <td>6351558574044883205</td>\n",
       "      <td>PLANNED</td>\n",
       "      <td>1</td>\n",
       "      <td>7.0</td>\n",
       "    </tr>\n",
       "    <tr>\n",
       "      <th>772</th>\n",
       "      <td>31</td>\n",
       "      <td>2018-07-23 06:11:43</td>\n",
       "      <td>418</td>\n",
       "      <td>Os.Zgody</td>\n",
       "      <td>21</td>\n",
       "      <td>Kopiec Wandy</td>\n",
       "      <td>2018-07-23 06:10:00</td>\n",
       "      <td>NaN</td>\n",
       "      <td>6351558574044883205</td>\n",
       "      <td>PLANNED</td>\n",
       "      <td>1</td>\n",
       "      <td>8.0</td>\n",
       "    </tr>\n",
       "    <tr>\n",
       "      <th>1007</th>\n",
       "      <td>40</td>\n",
       "      <td>2018-07-23 06:14:58</td>\n",
       "      <td>2744</td>\n",
       "      <td>Plac Centralny im. R.Reagana</td>\n",
       "      <td>21</td>\n",
       "      <td>Kopiec Wandy</td>\n",
       "      <td>2018-07-23 06:13:00</td>\n",
       "      <td>NaN</td>\n",
       "      <td>6351558574044883205</td>\n",
       "      <td>PLANNED</td>\n",
       "      <td>1</td>\n",
       "      <td>9.0</td>\n",
       "    </tr>\n",
       "    <tr>\n",
       "      <th>1137</th>\n",
       "      <td>45</td>\n",
       "      <td>2018-07-23 06:16:49</td>\n",
       "      <td>423</td>\n",
       "      <td>Struga</td>\n",
       "      <td>21</td>\n",
       "      <td>Kopiec Wandy</td>\n",
       "      <td>2018-07-23 06:15:00</td>\n",
       "      <td>NaN</td>\n",
       "      <td>6351558574044883205</td>\n",
       "      <td>PLANNED</td>\n",
       "      <td>1</td>\n",
       "      <td>10.0</td>\n",
       "    </tr>\n",
       "    <tr>\n",
       "      <th>1561</th>\n",
       "      <td>61</td>\n",
       "      <td>2018-07-23 06:22:46</td>\n",
       "      <td>459</td>\n",
       "      <td>Kombinat</td>\n",
       "      <td>21</td>\n",
       "      <td>Kopiec Wandy</td>\n",
       "      <td>2018-07-23 06:21:00</td>\n",
       "      <td>NaN</td>\n",
       "      <td>6351558574044883205</td>\n",
       "      <td>PLANNED</td>\n",
       "      <td>1</td>\n",
       "      <td>11.0</td>\n",
       "    </tr>\n",
       "  </tbody>\n",
       "</table>\n",
       "</div>"
      ],
      "text/plain": [
       "      index           time_stamp  stop  \\\n",
       "0         1  2018-07-23 06:00:45   378   \n",
       "70        3  2018-07-23 06:01:42   379   \n",
       "135       6  2018-07-23 06:02:46   382   \n",
       "284      12  2018-07-23 06:04:54   388   \n",
       "414      17  2018-07-23 06:06:40  2539   \n",
       "493      20  2018-07-23 06:07:43   392   \n",
       "697      28  2018-07-23 06:10:39  2745   \n",
       "772      31  2018-07-23 06:11:43   418   \n",
       "1007     40  2018-07-23 06:14:58  2744   \n",
       "1137     45  2018-07-23 06:16:49   423   \n",
       "1561     61  2018-07-23 06:22:46   459   \n",
       "\n",
       "                                     stopName  number     direction  \\\n",
       "0                                  Os.Piastów      21  Kopiec Wandy   \n",
       "70                          Piasta Kołodzieja      21  Kopiec Wandy   \n",
       "135                                 Kleeberga      21  Kopiec Wandy   \n",
       "284                             Dunikowskiego      21  Kopiec Wandy   \n",
       "414                         Rondo Hipokratesa      21  Kopiec Wandy   \n",
       "493                                  DH Wanda      21  Kopiec Wandy   \n",
       "697   Rondo Kocmyrzowskie im. Ks. Gorzelanego      21  Kopiec Wandy   \n",
       "772                                  Os.Zgody      21  Kopiec Wandy   \n",
       "1007             Plac Centralny im. R.Reagana      21  Kopiec Wandy   \n",
       "1137                                   Struga      21  Kopiec Wandy   \n",
       "1561                                 Kombinat      21  Kopiec Wandy   \n",
       "\n",
       "              plannedTime  vehicleId               tripId   status  delay  \\\n",
       "0     2018-07-23 05:59:00        NaN  6351558574044883205  PLANNED      1   \n",
       "70    2018-07-23 06:00:00        NaN  6351558574044883205  PLANNED      1   \n",
       "135   2018-07-23 06:01:00        NaN  6351558574044883205  PLANNED      1   \n",
       "284   2018-07-23 06:03:00        NaN  6351558574044883205  PLANNED      1   \n",
       "414   2018-07-23 06:05:00        NaN  6351558574044883205  PLANNED      1   \n",
       "493   2018-07-23 06:06:00        NaN  6351558574044883205  PLANNED      1   \n",
       "697   2018-07-23 06:09:00        NaN  6351558574044883205  PLANNED      1   \n",
       "772   2018-07-23 06:10:00        NaN  6351558574044883205  PLANNED      1   \n",
       "1007  2018-07-23 06:13:00        NaN  6351558574044883205  PLANNED      1   \n",
       "1137  2018-07-23 06:15:00        NaN  6351558574044883205  PLANNED      1   \n",
       "1561  2018-07-23 06:21:00        NaN  6351558574044883205  PLANNED      1   \n",
       "\n",
       "      seq_num  \n",
       "0         1.0  \n",
       "70        2.0  \n",
       "135       3.0  \n",
       "284       4.0  \n",
       "414       5.0  \n",
       "493       6.0  \n",
       "697       7.0  \n",
       "772       8.0  \n",
       "1007      9.0  \n",
       "1137     10.0  \n",
       "1561     11.0  "
      ]
     },
     "execution_count": 5,
     "metadata": {
      "tags": []
     },
     "output_type": "execute_result"
    }
   ],
   "source": [
    "df [df.tripId == 6351558574044883205]"
   ]
  },
  {
   "cell_type": "code",
   "execution_count": 0,
   "metadata": {
    "colab": {
     "base_uri": "https://localhost:8080/",
     "height": 353
    },
    "colab_type": "code",
    "executionInfo": {
     "elapsed": 1842,
     "status": "ok",
     "timestamp": 1553352685045,
     "user": {
      "displayName": "Cherit",
      "photoUrl": "https://lh4.googleusercontent.com/-2H1M0GCKJXk/AAAAAAAAAAI/AAAAAAAAEP0/Bt8vHFi-zhI/s64/photo.jpg",
      "userId": "06592389087717938820"
     },
     "user_tz": -60
    },
    "id": "zPYegDf8BRh4",
    "outputId": "9b57dd5d-76ae-4afe-b6c2-983e1dbc0a46"
   },
   "outputs": [
    {
     "data": {
      "text/plain": [
       "0     0.426905\n",
       "1     0.344715\n",
       "2     0.123509\n",
       "3     0.055987\n",
       "4     0.025421\n",
       "5     0.011410\n",
       "6     0.004852\n",
       "7     0.002657\n",
       "8     0.001189\n",
       "9     0.000867\n",
       "10    0.000587\n",
       "14    0.000503\n",
       "12    0.000475\n",
       "11    0.000350\n",
       "13    0.000336\n",
       "15    0.000154\n",
       "16    0.000042\n",
       "19    0.000028\n",
       "18    0.000014\n",
       "Name: delay, dtype: float64"
      ]
     },
     "execution_count": 6,
     "metadata": {
      "tags": []
     },
     "output_type": "execute_result"
    }
   ],
   "source": [
    "df.delay.value_counts(normalize=True)"
   ]
  },
  {
   "cell_type": "code",
   "execution_count": 0,
   "metadata": {
    "colab": {
     "base_uri": "https://localhost:8080/",
     "height": 282
    },
    "colab_type": "code",
    "executionInfo": {
     "elapsed": 2284,
     "status": "ok",
     "timestamp": 1553352685503,
     "user": {
      "displayName": "Cherit",
      "photoUrl": "https://lh4.googleusercontent.com/-2H1M0GCKJXk/AAAAAAAAAAI/AAAAAAAAEP0/Bt8vHFi-zhI/s64/photo.jpg",
      "userId": "06592389087717938820"
     },
     "user_tz": -60
    },
    "id": "f3K12CNHBZhw",
    "outputId": "2b2a919e-15e5-42d3-c4aa-5d98f52beab6"
   },
   "outputs": [
    {
     "data": {
      "text/plain": [
       "<matplotlib.axes._subplots.AxesSubplot at 0x7fb133d0ee10>"
      ]
     },
     "execution_count": 7,
     "metadata": {
      "tags": []
     },
     "output_type": "execute_result"
    },
    {
     "data": {
      "image/png": "[encoded data removed]",
      "text/plain": [
       "<Figure size 432x288 with 1 Axes>"
      ]
     },
     "metadata": {
      "tags": []
     },
     "output_type": "display_data"
    }
   ],
   "source": [
    "df.delay.hist(bins = 15)"
   ]
  },
  {
   "cell_type": "code",
   "execution_count": 0,
   "metadata": {
    "colab": {
     "base_uri": "https://localhost:8080/",
     "height": 168
    },
    "colab_type": "code",
    "executionInfo": {
     "elapsed": 2273,
     "status": "ok",
     "timestamp": 1553352685507,
     "user": {
      "displayName": "Cherit",
      "photoUrl": "https://lh4.googleusercontent.com/-2H1M0GCKJXk/AAAAAAAAAAI/AAAAAAAAEP0/Bt8vHFi-zhI/s64/photo.jpg",
      "userId": "06592389087717938820"
     },
     "user_tz": -60
    },
    "id": "eY0T387XBgNO",
    "outputId": "5a7f8d38-72fa-4c40-c720-6e2311f91b84"
   },
   "outputs": [
    {
     "data": {
      "text/plain": [
       "count    71517.000000\n",
       "mean         1.014039\n",
       "std          1.357324\n",
       "min          0.000000\n",
       "25%          0.000000\n",
       "50%          1.000000\n",
       "75%          1.000000\n",
       "max         19.000000\n",
       "Name: delay, dtype: float64"
      ]
     },
     "execution_count": 8,
     "metadata": {
      "tags": []
     },
     "output_type": "execute_result"
    }
   ],
   "source": [
    "df.delay.describe()"
   ]
  },
  {
   "cell_type": "code",
   "execution_count": 0,
   "metadata": {
    "colab": {
     "base_uri": "https://localhost:8080/",
     "height": 67
    },
    "colab_type": "code",
    "executionInfo": {
     "elapsed": 809,
     "status": "ok",
     "timestamp": 1553353229832,
     "user": {
      "displayName": "Cherit",
      "photoUrl": "https://lh4.googleusercontent.com/-2H1M0GCKJXk/AAAAAAAAAAI/AAAAAAAAEP0/Bt8vHFi-zhI/s64/photo.jpg",
      "userId": "06592389087717938820"
     },
     "user_tz": -60
    },
    "id": "WJ1CABK8Bh5b",
    "outputId": "daf27c14-2ea4-4263-da1d-61e62e023344"
   },
   "outputs": [
    {
     "data": {
      "text/plain": [
       "Index(['index', 'time_stamp', 'stop', 'stopName', 'number', 'direction',\n",
       "       'plannedTime', 'vehicleId', 'tripId', 'status', 'delay', 'seq_num'],\n",
       "      dtype='object')"
      ]
     },
     "execution_count": 15,
     "metadata": {
      "tags": []
     },
     "output_type": "execute_result"
    }
   ],
   "source": [
    "df.columns"
   ]
  },
  {
   "cell_type": "code",
   "execution_count": 0,
   "metadata": {
    "colab": {
     "base_uri": "https://localhost:8080/",
     "height": 118
    },
    "colab_type": "code",
    "executionInfo": {
     "elapsed": 796,
     "status": "ok",
     "timestamp": 1553353256821,
     "user": {
      "displayName": "Cherit",
      "photoUrl": "https://lh4.googleusercontent.com/-2H1M0GCKJXk/AAAAAAAAAAI/AAAAAAAAEP0/Bt8vHFi-zhI/s64/photo.jpg",
      "userId": "06592389087717938820"
     },
     "user_tz": -60
    },
    "id": "r7whvBUZEU1h",
    "outputId": "566dfa22-6d0f-4ee8-c12f-7f3265017b64"
   },
   "outputs": [
    {
     "data": {
      "text/plain": [
       "array(['Kopiec Wandy', 'Walcownia', 'Czerwone Maki P+R', 'Wzgórza K.',\n",
       "       'Bronowice Małe', 'Salwator', 'Mały Płaszów', 'Os.Piastów',\n",
       "       'Mistrzejowice', 'Bronowice', 'Kurdwanów P+R', 'Nowy Bieżanów P+R',\n",
       "       'Krowodrza Górka', 'Cichy Kącik', 'Borek Fałęcki', 'Dworzec Tow.',\n",
       "       'Prokocim', 'Łagiewniki', 'Cm. Rakowicki', 'Kombinat',\n",
       "       'Plac Centralny im.R.Reagana'], dtype=object)"
      ]
     },
     "execution_count": 16,
     "metadata": {
      "tags": []
     },
     "output_type": "execute_result"
    }
   ],
   "source": [
    "df['direction'].unique()"
   ]
  },
  {
   "cell_type": "code",
   "execution_count": 0,
   "metadata": {
    "colab": {
     "base_uri": "https://localhost:8080/",
     "height": 34
    },
    "colab_type": "code",
    "executionInfo": {
     "elapsed": 755,
     "status": "ok",
     "timestamp": 1553353777781,
     "user": {
      "displayName": "Cherit",
      "photoUrl": "https://lh4.googleusercontent.com/-2H1M0GCKJXk/AAAAAAAAAAI/AAAAAAAAEP0/Bt8vHFi-zhI/s64/photo.jpg",
      "userId": "06592389087717938820"
     },
     "user_tz": -60
    },
    "id": "FYVv3pFuGJa3",
    "outputId": "250c09f9-357b-432f-8b74-96ba2a59b5a5"
   },
   "outputs": [
    {
     "data": {
      "text/plain": [
       "array([0, 1, 2, 3])"
      ]
     },
     "execution_count": 21,
     "metadata": {
      "tags": []
     },
     "output_type": "execute_result"
    }
   ],
   "source": [
    "pd.factorize([\n",
    "    '{} {}'.format(7, 'B'),\n",
    "    '{} {}'.format(7, 'A'),\n",
    "    '{} {}'.format(10, 'C'),\n",
    "    '{} {}'.format(10, 'D'),\n",
    "])[0]"
   ]
  },
  {
   "cell_type": "code",
   "execution_count": 0,
   "metadata": {
    "colab": {},
    "colab_type": "code",
    "id": "aGOwjEe2Gy3n"
   },
   "outputs": [],
   "source": [
    "df.apply(lambda x: '{} {}'.format(x['number'], x['direction']), axis = 1).head().factorize()[0]"
   ]
  },
  {
   "cell_type": "code",
   "execution_count": 0,
   "metadata": {
    "colab": {
     "base_uri": "https://localhost:8080/",
     "height": 118
    },
    "colab_type": "code",
    "executionInfo": {
     "elapsed": 712,
     "status": "ok",
     "timestamp": 1553354596214,
     "user": {
      "displayName": "Cherit",
      "photoUrl": "https://lh4.googleusercontent.com/-2H1M0GCKJXk/AAAAAAAAAAI/AAAAAAAAEP0/Bt8vHFi-zhI/s64/photo.jpg",
      "userId": "06592389087717938820"
     },
     "user_tz": -60
    },
    "id": "BrRHH6BrJDJF",
    "outputId": "d3b27c2e-b164-4b09-91a2-b404762c15a4"
   },
   "outputs": [
    {
     "name": "stdout",
     "output_type": "stream",
     "text": [
      "<class 'pandas.core.frame.DataFrame'>\n",
      "Int64Index: 144719 entries, 0 to 73201\n",
      "Data columns (total 1 columns):\n",
      "plannedTime    144719 non-null datetime64[ns]\n",
      "dtypes: datetime64[ns](1)\n",
      "memory usage: 2.2 MB\n"
     ]
    }
   ],
   "source": [
    "df['plannedTime'] = pd.to_datetime(df['plannedTime'])\n",
    "df[['plannedTime']].info()\n",
    "\n",
    "df['hour'] = df['plannedTime'].dt.hour"
   ]
  },
  {
   "cell_type": "code",
   "execution_count": 0,
   "metadata": {
    "colab": {
     "base_uri": "https://localhost:8080/",
     "height": 34
    },
    "colab_type": "code",
    "executionInfo": {
     "elapsed": 5288,
     "status": "ok",
     "timestamp": 1553354364488,
     "user": {
      "displayName": "Cherit",
      "photoUrl": "https://lh4.googleusercontent.com/-2H1M0GCKJXk/AAAAAAAAAAI/AAAAAAAAEP0/Bt8vHFi-zhI/s64/photo.jpg",
      "userId": "06592389087717938820"
     },
     "user_tz": -60
    },
    "id": "Am8QGVn_CJDs",
    "outputId": "ffdc6395-ba69-4f29-c4d1-af4f983a2416"
   },
   "outputs": [
    {
     "data": {
      "text/plain": [
       "(-48.22787185865052, 2.819348499094717)"
      ]
     },
     "execution_count": 25,
     "metadata": {
      "tags": []
     },
     "output_type": "execute_result"
    }
   ],
   "source": [
    "df['delay_secs'] = df['delay'].map(lambda x:x*60)\n",
    "df['direction_cat'] = df['direction'].factorize()[0]\n",
    "df['vehicleId'].fillna(-1,inplace=True)\n",
    "df['seq_num'].fillna(-1,inplace=True)\n",
    "\n",
    "def gen_id_num_direction(x):\n",
    "  return '{} {}'.format(x['number'], x['direction'])\n",
    "\n",
    "df['number_direction_id'] = df.apply(gen_id_num_direction, axis = 1).factorize()[0]\n",
    "\n",
    "def gen_id_stop_direction(x):\n",
    "  return '{} {}'.format(x['stop'], x['direction'])\n",
    "\n",
    "df['stop_direction_id'] = df.apply(gen_id_stop_direction, axis = 1).factorize()[0]\n",
    "\n",
    "\n",
    "feats = ['number',\n",
    "         'stop',\n",
    "         'direction_cat',\n",
    "         'vehicleId',\n",
    "         'seq_num',\n",
    "         'number_direction_id',\n",
    "         'stop_direction_id',\n",
    "        ]\n",
    "\n",
    "X = df [ feats ].values\n",
    "y = df['delay_secs'].values\n",
    "\n",
    "# model = RandomForestRegressor(max_depth = 10, n_estimators=50)\n",
    "model = DecisionTreeRegressor(max_depth = 10, random_state=0)\n",
    "scores = cross_val_score(model, X, y, cv=5, scoring='neg_mean_absolute_error' )\n",
    "np.mean(scores), np.std(scores)"
   ]
  },
  {
   "cell_type": "code",
   "execution_count": 0,
   "metadata": {
    "colab": {},
    "colab_type": "code",
    "id": "e_0dTE1ODtFh"
   },
   "outputs": [],
   "source": []
  }
 ],
 "metadata": {
  "accelerator": "GPU",
  "colab": {
   "collapsed_sections": [],
   "name": "delayAnalysis",
   "provenance": [],
   "version": "0.3.2"
  },
  "kernelspec": {
   "display_name": "Python 3",
   "language": "python",
   "name": "python3"
  },
  "language_info": {
   "codemirror_mode": {
    "name": "ipython",
    "version": 3
   },
   "file_extension": ".py",
   "mimetype": "text/x-python",
   "name": "python",
   "nbconvert_exporter": "python",
   "pygments_lexer": "ipython3",
   "version": "3.7.3"
  }
 },
 "nbformat": 4,
 "nbformat_minor": 1
}
