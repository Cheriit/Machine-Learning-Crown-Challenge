{
 "cells": [
  {
   "cell_type": "markdown",
   "metadata": {},
   "source": [
    "# Word2Vec - oferty pracy"
   ]
  },
  {
   "cell_type": "code",
   "execution_count": 1,
   "metadata": {},
   "outputs": [],
   "source": [
    "import pandas as pd\n",
    "\n",
    "from gensim.utils import simple_preprocess\n",
    "from gensim.models import Word2Vec\n",
    "from gensim.models.phrases import Phraser, Phrases\n",
    "\n",
    "from ast import literal_eval"
   ]
  },
  {
   "cell_type": "code",
   "execution_count": 2,
   "metadata": {},
   "outputs": [
    {
     "name": "stdout",
     "output_type": "stream",
     "text": [
      "total 247M\r\n",
      "-rwxr--r-- 1 cherit users 128M Sep  4 22:53 \u001b[0m\u001b[01;32mjob_ofer.csv\u001b[0m*\r\n",
      "-rwxr--r-- 1 cherit users  38M Sep  4 22:54 \u001b[01;32mjob_ofer.csv.tar.gz\u001b[0m*\r\n",
      "-rwxr--r-- 1 cherit users  83M Sep  3 10:30 \u001b[01;32mreviews_data.txt.gz\u001b[0m*\r\n"
     ]
    }
   ],
   "source": [
    "ls -lh data"
   ]
  },
  {
   "cell_type": "code",
   "execution_count": 3,
   "metadata": {},
   "outputs": [],
   "source": [
    "df = pd.read_csv('data/job_ofer.csv')"
   ]
  },
  {
   "cell_type": "code",
   "execution_count": 4,
   "metadata": {},
   "outputs": [
    {
     "data": {
      "text/plain": [
       "(36109, 8)"
      ]
     },
     "execution_count": 4,
     "metadata": {},
     "output_type": "execute_result"
    }
   ],
   "source": [
    "df.shape"
   ]
  },
  {
   "cell_type": "code",
   "execution_count": 5,
   "metadata": {},
   "outputs": [
    {
     "data": {
      "text/html": [
       "<div>\n",
       "<style scoped>\n",
       "    .dataframe tbody tr th:only-of-type {\n",
       "        vertical-align: middle;\n",
       "    }\n",
       "\n",
       "    .dataframe tbody tr th {\n",
       "        vertical-align: top;\n",
       "    }\n",
       "\n",
       "    .dataframe thead th {\n",
       "        text-align: right;\n",
       "    }\n",
       "</style>\n",
       "<table border=\"1\" class=\"dataframe\">\n",
       "  <thead>\n",
       "    <tr style=\"text-align: right;\">\n",
       "      <th></th>\n",
       "      <th>title</th>\n",
       "      <th>company_name</th>\n",
       "      <th>address</th>\n",
       "      <th>description</th>\n",
       "      <th>seniority_level</th>\n",
       "      <th>employment_type</th>\n",
       "      <th>job_function</th>\n",
       "      <th>industries</th>\n",
       "    </tr>\n",
       "  </thead>\n",
       "  <tbody>\n",
       "    <tr>\n",
       "      <th>0</th>\n",
       "      <td>Machine Learning Engineer</td>\n",
       "      <td>Intellipro Group Inc</td>\n",
       "      <td>Palo Alto, CA, US</td>\n",
       "      <td>['About The Company', \"W*** is reshaping the f...</td>\n",
       "      <td>Entry level</td>\n",
       "      <td>Full-time</td>\n",
       "      <td>Engineering</td>\n",
       "      <td>Information Technology and Services</td>\n",
       "    </tr>\n",
       "    <tr>\n",
       "      <th>1</th>\n",
       "      <td>Deep Learning Applied Researcher - Chicago</td>\n",
       "      <td>Ethosia</td>\n",
       "      <td>Chicago, IL, US</td>\n",
       "      <td>['תיאור המשרה', 'Deep learning for Computer Vi...</td>\n",
       "      <td>Associate</td>\n",
       "      <td>Full-time</td>\n",
       "      <td>Other</td>\n",
       "      <td>Information Technology and Services</td>\n",
       "    </tr>\n",
       "    <tr>\n",
       "      <th>2</th>\n",
       "      <td>Machine Learning Engineer</td>\n",
       "      <td>Motorola Solutions</td>\n",
       "      <td>Chicago, IL, US</td>\n",
       "      <td>['Company Overview', 'At Motorola Solutions, w...</td>\n",
       "      <td>Entry level</td>\n",
       "      <td>Full-time</td>\n",
       "      <td>Engineering</td>\n",
       "      <td>Information Technology and Services</td>\n",
       "    </tr>\n",
       "    <tr>\n",
       "      <th>3</th>\n",
       "      <td>Machine Learning / Data Scientist</td>\n",
       "      <td>Proprius LLC</td>\n",
       "      <td>San Francisco, CA, US</td>\n",
       "      <td>['Our client is a digital invention agency foc...</td>\n",
       "      <td>Entry level</td>\n",
       "      <td>Full-time</td>\n",
       "      <td>Engineering</td>\n",
       "      <td>Information Technology and Services</td>\n",
       "    </tr>\n",
       "    <tr>\n",
       "      <th>4</th>\n",
       "      <td>Cloud Architect</td>\n",
       "      <td>TCS</td>\n",
       "      <td>Framingham, Massachusetts, United States</td>\n",
       "      <td>['Technical/Functional Skills', ' ', 'Good to ...</td>\n",
       "      <td>Mid-Senior level</td>\n",
       "      <td>Full-time</td>\n",
       "      <td>Engineering</td>\n",
       "      <td>Information Technology and Services</td>\n",
       "    </tr>\n",
       "  </tbody>\n",
       "</table>\n",
       "</div>"
      ],
      "text/plain": [
       "                                        title          company_name  \\\n",
       "0                   Machine Learning Engineer  Intellipro Group Inc   \n",
       "1  Deep Learning Applied Researcher - Chicago               Ethosia   \n",
       "2                   Machine Learning Engineer    Motorola Solutions   \n",
       "3           Machine Learning / Data Scientist          Proprius LLC   \n",
       "4                             Cloud Architect                   TCS   \n",
       "\n",
       "                                    address  \\\n",
       "0                         Palo Alto, CA, US   \n",
       "1                           Chicago, IL, US   \n",
       "2                           Chicago, IL, US   \n",
       "3                     San Francisco, CA, US   \n",
       "4  Framingham, Massachusetts, United States   \n",
       "\n",
       "                                         description   seniority_level  \\\n",
       "0  ['About The Company', \"W*** is reshaping the f...       Entry level   \n",
       "1  ['תיאור המשרה', 'Deep learning for Computer Vi...         Associate   \n",
       "2  ['Company Overview', 'At Motorola Solutions, w...       Entry level   \n",
       "3  ['Our client is a digital invention agency foc...       Entry level   \n",
       "4  ['Technical/Functional Skills', ' ', 'Good to ...  Mid-Senior level   \n",
       "\n",
       "  employment_type job_function                           industries  \n",
       "0       Full-time  Engineering  Information Technology and Services  \n",
       "1       Full-time        Other  Information Technology and Services  \n",
       "2       Full-time  Engineering  Information Technology and Services  \n",
       "3       Full-time  Engineering  Information Technology and Services  \n",
       "4       Full-time  Engineering  Information Technology and Services  "
      ]
     },
     "execution_count": 5,
     "metadata": {},
     "output_type": "execute_result"
    }
   ],
   "source": [
    "df.head()"
   ]
  },
  {
   "cell_type": "markdown",
   "metadata": {},
   "source": [
    "# Word2Vec"
   ]
  },
  {
   "cell_type": "code",
   "execution_count": 6,
   "metadata": {},
   "outputs": [],
   "source": [
    "corpus = df['title'].map(simple_preprocess)"
   ]
  },
  {
   "cell_type": "code",
   "execution_count": 7,
   "metadata": {},
   "outputs": [
    {
     "data": {
      "text/plain": [
       "0                            [machine, learning, engineer]\n",
       "1           [deep, learning, applied, researcher, chicago]\n",
       "2                            [machine, learning, engineer]\n",
       "3                     [machine, learning, data, scientist]\n",
       "4                                       [cloud, architect]\n",
       "5                                        [data, scientist]\n",
       "6                                     [store, room, clerk]\n",
       "7                              [director, of, product, us]\n",
       "8               [recruiting, manager, ad, census, ext, gb]\n",
       "9        [bilingual, engineer, german, germany, or, swi...\n",
       "10                                             [sommelier]\n",
       "11       [entry, level, project, manager, shelton, ct, ...\n",
       "12       [finance, manager, firestone, industrial, prod...\n",
       "13        [us, lcra, cardiovascular, remote, anywhere, in]\n",
       "14          [gallagher, bassett, corporate, intern, legal]\n",
       "15                               [us, head, of, marketing]\n",
       "16                                  [visual, merchandiser]\n",
       "17                     [community, intern, tampa, bay, fl]\n",
       "18                               [sr, innovation, manager]\n",
       "19                      [fashion, beauty, content, editor]\n",
       "20                                        [fp, specialist]\n",
       "21                             [associate, brand, manager]\n",
       "22                      [operations, director, innate, ru]\n",
       "23                                     [business, analyst]\n",
       "24                     [global, marketing, director, hvac]\n",
       "25       [market, access, development, program, mba, in...\n",
       "26                               [production, coordinator]\n",
       "27       [digital, marketing, specialist, remote, us, o...\n",
       "28                       [director, of, operations, aslan]\n",
       "29       [nyc, partnership, manager, cloud, support, tr...\n",
       "                               ...                        \n",
       "36079                                   [autocad, drafter]\n",
       "36080      [sap, cloud, platform, integration, specialist]\n",
       "36081    [consultant, as, project, manager, supplier, d...\n",
       "36082             [med, ed, specialist, digital, learning]\n",
       "36083            [technical, product, support, specialist]\n",
       "36084    [medical, education, associate, specialist, ro...\n",
       "36085           [clinical, research, study, project, lead]\n",
       "36086           [it, analyst, web, and, mobile, developer]\n",
       "36087           [global, customer, operations, supervisor]\n",
       "36088                                           [packager]\n",
       "36089                [regulatory, affairs, sr, specialist]\n",
       "36090                        [quality, principal, auditor]\n",
       "36091    [cdl, drivers, hauling, to, canada, no, touch,...\n",
       "36092    [cdl, drivers, hauling, to, canada, no, touch,...\n",
       "36093    [cdl, drivers, hauling, to, canada, no, touch,...\n",
       "36094    [cdl, drivers, hauling, to, canada, no, touch,...\n",
       "36095    [cdl, drivers, hauling, to, canada, no, touch,...\n",
       "36096    [cdl, drivers, hauling, to, canada, no, touch,...\n",
       "36097    [cdl, drivers, hauling, to, canada, no, touch,...\n",
       "36098    [cdl, drivers, hauling, to, canada, no, touch,...\n",
       "36099    [cdl, drivers, hauling, to, canada, no, touch,...\n",
       "36100    [cdl, drivers, hauling, to, canada, no, touch,...\n",
       "36101    [cdl, drivers, hauling, to, canada, no, touch,...\n",
       "36102    [cdl, drivers, hauling, to, canada, no, touch,...\n",
       "36103    [cdl, drivers, hauling, to, canada, no, touch,...\n",
       "36104    [cdl, drivers, hauling, to, canada, no, touch,...\n",
       "36105    [research, scientist, human, computer, interac...\n",
       "36106    [clinical, post, market, surveillance, special...\n",
       "36107    [excellent, teaching, opportunity, in, china, ...\n",
       "36108                [assistant, director, talent, culure]\n",
       "Name: title, Length: 36109, dtype: object"
      ]
     },
     "execution_count": 7,
     "metadata": {},
     "output_type": "execute_result"
    }
   ],
   "source": [
    "corpus"
   ]
  },
  {
   "cell_type": "code",
   "execution_count": 8,
   "metadata": {},
   "outputs": [],
   "source": [
    "model = Word2Vec(corpus, size=100, window=2, min_count=1)"
   ]
  },
  {
   "cell_type": "code",
   "execution_count": 9,
   "metadata": {},
   "outputs": [
    {
     "data": {
      "text/plain": [
       "[('deep', 0.9483935832977295),\n",
       " ('edge', 0.8585814237594604),\n",
       " ('scientists', 0.8576443195343018),\n",
       " ('inference', 0.846896767616272),\n",
       " ('acceleration', 0.8403028249740601),\n",
       " ('computer', 0.8299179077148438),\n",
       " ('big', 0.8258348703384399),\n",
       " ('three', 0.8208028078079224),\n",
       " ('captivate', 0.8207422494888306),\n",
       " ('genomic', 0.81876140832901)]"
      ]
     },
     "execution_count": 9,
     "metadata": {},
     "output_type": "execute_result"
    }
   ],
   "source": [
    "model.wv.most_similar('machine')"
   ]
  },
  {
   "cell_type": "markdown",
   "metadata": {},
   "source": [
    "# Przykład"
   ]
  },
  {
   "cell_type": "code",
   "execution_count": 10,
   "metadata": {},
   "outputs": [
    {
     "data": {
      "text/plain": [
       "['k', 'a_b', 'c']"
      ]
     },
     "execution_count": 10,
     "metadata": {},
     "output_type": "execute_result"
    }
   ],
   "source": [
    "corpus = [\n",
    "    ['a', 'b', 'c'],\n",
    "    ['a', 'b', 'x'],\n",
    "    ['y','a', 'b', 'w'],\n",
    "    ['q','a', 'b', 'u','k'],\n",
    "]\n",
    "bigram = Phraser(Phrases(corpus, min_count=1, threshold=1))\n",
    "bigram[['k','a','b','c']]"
   ]
  },
  {
   "cell_type": "markdown",
   "metadata": {},
   "source": [
    "# Title + phrases"
   ]
  },
  {
   "cell_type": "code",
   "execution_count": 11,
   "metadata": {},
   "outputs": [],
   "source": [
    "title_corpus = df['title'].map(simple_preprocess)\n",
    "title_bigram = Phraser(Phrases(title_corpus, min_count=1, threshold=1))\n"
   ]
  },
  {
   "cell_type": "code",
   "execution_count": 12,
   "metadata": {},
   "outputs": [],
   "source": [
    "title_corpus_phrase = [title_bigram[sent] for sent in title_corpus]\n",
    "model = Word2Vec(title_corpus_phrase, size=100, window=2, min_count=1)"
   ]
  },
  {
   "cell_type": "code",
   "execution_count": 13,
   "metadata": {},
   "outputs": [
    {
     "data": {
      "text/plain": [
       "[('bc', 0.9664468765258789),\n",
       " ('technology_services', 0.9651788473129272),\n",
       " ('nyc_new', 0.9632802605628967),\n",
       " ('advisor_ontario', 0.9632721543312073),\n",
       " ('capital', 0.9631308913230896),\n",
       " ('paralegal', 0.9625399112701416),\n",
       " ('acquisition', 0.9624183177947998),\n",
       " ('human_resource', 0.9618913531303406),\n",
       " ('soho', 0.961529016494751),\n",
       " ('officer_singapore', 0.9614496231079102)]"
      ]
     },
     "execution_count": 13,
     "metadata": {},
     "output_type": "execute_result"
    }
   ],
   "source": [
    "model.wv.most_similar('machine')"
   ]
  },
  {
   "cell_type": "code",
   "execution_count": 14,
   "metadata": {},
   "outputs": [],
   "source": [
    "def prepare_corpus(corpus, bigram):\n",
    "    for sent in corpus:\n",
    "        yield bigram[sent] + sent"
   ]
  },
  {
   "cell_type": "code",
   "execution_count": 15,
   "metadata": {},
   "outputs": [],
   "source": [
    "ext_corp = list(prepare_corpus(title_corpus, title_bigram))\n",
    "title_model = Word2Vec(ext_corp, size=100, window=2, min_count=1)"
   ]
  },
  {
   "cell_type": "code",
   "execution_count": 16,
   "metadata": {},
   "outputs": [
    {
     "data": {
      "text/plain": [
       "[('rockville', 0.9911437034606934),\n",
       " ('computer_vision', 0.9902132749557495),\n",
       " ('learning', 0.9825021028518677),\n",
       " ('artificial_intelligence', 0.976567268371582),\n",
       " ('deep_learning', 0.9759215712547302),\n",
       " ('nlp', 0.9733071327209473),\n",
       " ('data_engineer', 0.969058632850647),\n",
       " ('deep', 0.9676706790924072),\n",
       " ('mining', 0.9637101888656616),\n",
       " ('ml', 0.9621261358261108)]"
      ]
     },
     "execution_count": 16,
     "metadata": {},
     "output_type": "execute_result"
    }
   ],
   "source": [
    "title_model.wv.most_similar('machine_learning')"
   ]
  },
  {
   "cell_type": "markdown",
   "metadata": {},
   "source": [
    "# Description"
   ]
  },
  {
   "cell_type": "code",
   "execution_count": 17,
   "metadata": {},
   "outputs": [
    {
     "data": {
      "text/plain": [
       "['leading',\n",
       " 'global',\n",
       " 'data',\n",
       " 'and',\n",
       " 'analytics',\n",
       " 'company',\n",
       " 'is',\n",
       " 'initiating',\n",
       " 'transformation',\n",
       " 'of',\n",
       " 'their',\n",
       " 'cs',\n",
       " 'department',\n",
       " 'to',\n",
       " 'work',\n",
       " 'strategically',\n",
       " 'with',\n",
       " 'their',\n",
       " 'clients',\n",
       " 'across',\n",
       " 'some',\n",
       " 'of',\n",
       " 'the',\n",
       " 'largest',\n",
       " 'banks',\n",
       " 'financial',\n",
       " 'institutions',\n",
       " 'healthcare',\n",
       " 'companies',\n",
       " 'and',\n",
       " 'other',\n",
       " 'global',\n",
       " 'corporations',\n",
       " 'as',\n",
       " 'such',\n",
       " 'they',\n",
       " 'are',\n",
       " 'looking',\n",
       " 'to',\n",
       " 'hire',\n",
       " 'director',\n",
       " 'of',\n",
       " 'customer',\n",
       " 'success',\n",
       " 'this',\n",
       " 'company',\n",
       " 'product',\n",
       " 'is',\n",
       " 'one',\n",
       " 'of',\n",
       " 'the',\n",
       " 'only',\n",
       " 'open',\n",
       " 'end',\n",
       " 'solutions',\n",
       " 'that',\n",
       " 'allows',\n",
       " 'customers',\n",
       " 'to',\n",
       " 'discover',\n",
       " 'and',\n",
       " 'extract',\n",
       " 'value',\n",
       " 'out',\n",
       " 'their',\n",
       " 'data',\n",
       " 'that',\n",
       " 'currently',\n",
       " 'available',\n",
       " 'on',\n",
       " 'the',\n",
       " 'market',\n",
       " 'this',\n",
       " 'saas',\n",
       " 'technology',\n",
       " 'is',\n",
       " 'changing',\n",
       " 'the',\n",
       " 'way',\n",
       " 'multiple',\n",
       " 'departments',\n",
       " 'across',\n",
       " 'the',\n",
       " 'fortune',\n",
       " 'industry',\n",
       " 'utilize',\n",
       " 'their',\n",
       " 'data',\n",
       " 'to',\n",
       " 'make',\n",
       " 'transformative',\n",
       " 'and',\n",
       " 'impactful',\n",
       " 'advancements',\n",
       " 'currently',\n",
       " 'this',\n",
       " 'company',\n",
       " 'product',\n",
       " 'is',\n",
       " 'used',\n",
       " 'in',\n",
       " 'over',\n",
       " 'countries',\n",
       " 'and',\n",
       " 'helping',\n",
       " 'over',\n",
       " 'customers',\n",
       " 'better',\n",
       " 'understand',\n",
       " 'their',\n",
       " 'data',\n",
       " 'in',\n",
       " 'this',\n",
       " 'role',\n",
       " 'you',\n",
       " 'will',\n",
       " 'be',\n",
       " 'responsible',\n",
       " 'for',\n",
       " 'overseeing',\n",
       " 'and',\n",
       " 'leading',\n",
       " 'the',\n",
       " 'transformation',\n",
       " 'of',\n",
       " 'the',\n",
       " 'customer',\n",
       " 'success',\n",
       " 'function',\n",
       " 'within',\n",
       " 'the',\n",
       " 'organization',\n",
       " 'in',\n",
       " 'this',\n",
       " 'leadership',\n",
       " 'position',\n",
       " 'you',\n",
       " 'will',\n",
       " 'be',\n",
       " 'able',\n",
       " 'to',\n",
       " 'critically',\n",
       " 'think',\n",
       " 'about',\n",
       " 'how',\n",
       " 'best',\n",
       " 'to',\n",
       " 'implement',\n",
       " 'improvements',\n",
       " 'across',\n",
       " 'the',\n",
       " 'cs',\n",
       " 'team',\n",
       " 'you',\n",
       " 'will',\n",
       " 'work',\n",
       " 'closely',\n",
       " 'with',\n",
       " 'the',\n",
       " 'cs',\n",
       " 'renewal',\n",
       " 'sales',\n",
       " 'and',\n",
       " 'senior',\n",
       " 'leadership',\n",
       " 'teams',\n",
       " 'within',\n",
       " 'the',\n",
       " 'company',\n",
       " 'to',\n",
       " 'expand',\n",
       " 'upon',\n",
       " 'the',\n",
       " 'current',\n",
       " 'cs',\n",
       " 'capabilities',\n",
       " 'and',\n",
       " 'provide',\n",
       " 'recommendations',\n",
       " 'to',\n",
       " 'best',\n",
       " 'build',\n",
       " 'out',\n",
       " 'the',\n",
       " 'team',\n",
       " 'as',\n",
       " 'the',\n",
       " 'director',\n",
       " 'of',\n",
       " 'cs',\n",
       " 'you',\n",
       " 'will',\n",
       " 'oversee',\n",
       " 'approximately',\n",
       " 'in',\n",
       " 'aar',\n",
       " 'business',\n",
       " 'of',\n",
       " 'note',\n",
       " 'the',\n",
       " 'company',\n",
       " 'had',\n",
       " 'global',\n",
       " 'revenue',\n",
       " 'over',\n",
       " 'last',\n",
       " 'year',\n",
       " 'with',\n",
       " 'the',\n",
       " 'ny',\n",
       " 'market',\n",
       " 'being',\n",
       " 'the',\n",
       " 'foremost',\n",
       " 'market',\n",
       " 'in',\n",
       " 'the',\n",
       " 'united',\n",
       " 'states',\n",
       " 'focusing',\n",
       " 'exclusively',\n",
       " 'on',\n",
       " 'enterprise',\n",
       " 'level',\n",
       " 'accounts',\n",
       " 'ranging',\n",
       " 'from',\n",
       " 'to',\n",
       " 'multi',\n",
       " 'million',\n",
       " 'ones',\n",
       " 'you',\n",
       " 'will',\n",
       " 'be',\n",
       " 'tasked',\n",
       " 'to',\n",
       " 'develop',\n",
       " 'and',\n",
       " 'improve',\n",
       " 'the',\n",
       " 'cs',\n",
       " 'team',\n",
       " 'and',\n",
       " 'provide',\n",
       " 'exceptional',\n",
       " 'customer',\n",
       " 'satisfaction',\n",
       " 'understanding',\n",
       " 'customers',\n",
       " 'needs',\n",
       " 'and',\n",
       " 'ensuring',\n",
       " 'they',\n",
       " 'are',\n",
       " 'achieving',\n",
       " 'their',\n",
       " 'desired',\n",
       " 'outcomes',\n",
       " 'while',\n",
       " 'utilizing',\n",
       " 'the',\n",
       " 'product',\n",
       " 'project',\n",
       " 'manage',\n",
       " 'the',\n",
       " 'internal',\n",
       " 'support',\n",
       " 'technical',\n",
       " 'and',\n",
       " 'consulting',\n",
       " 'teams',\n",
       " 'to',\n",
       " 'deliver',\n",
       " 'to',\n",
       " 'large',\n",
       " 'scale',\n",
       " 'custom',\n",
       " 'projects',\n",
       " 'collect',\n",
       " 'customer',\n",
       " 'process',\n",
       " 'and',\n",
       " 'performance',\n",
       " 'information',\n",
       " 'assisting',\n",
       " 'sales',\n",
       " 'team',\n",
       " 'in',\n",
       " 'developing',\n",
       " 'roi',\n",
       " 'manage',\n",
       " 'the',\n",
       " 'cs',\n",
       " 'team',\n",
       " 'taking',\n",
       " 'responsibility',\n",
       " 'for',\n",
       " 'new',\n",
       " 'growth',\n",
       " 'strategies',\n",
       " 'and',\n",
       " 'overall',\n",
       " 'development',\n",
       " 'of',\n",
       " 'the',\n",
       " 'team',\n",
       " 'prepare',\n",
       " 'the',\n",
       " 'customer',\n",
       " 'success',\n",
       " 'team',\n",
       " 'to',\n",
       " 'support',\n",
       " 'the',\n",
       " 'exponentially',\n",
       " 'growing',\n",
       " 'customer',\n",
       " 'base',\n",
       " 'and',\n",
       " 'roadmap',\n",
       " 'the',\n",
       " 'cs',\n",
       " 'function',\n",
       " 'moving',\n",
       " 'forward',\n",
       " 'qualifications',\n",
       " 'years',\n",
       " 'of',\n",
       " 'customer',\n",
       " 'success',\n",
       " 'experience',\n",
       " 'working',\n",
       " 'up',\n",
       " 'to',\n",
       " 'managerial',\n",
       " 'position',\n",
       " 'background',\n",
       " 'in',\n",
       " 'finance',\n",
       " 'data',\n",
       " 'analytics',\n",
       " 'previous',\n",
       " 'experience',\n",
       " 'at',\n",
       " 'bi',\n",
       " 'firm',\n",
       " 'preferred',\n",
       " 'willingness',\n",
       " 'to',\n",
       " 'take',\n",
       " 'leadership',\n",
       " 'position',\n",
       " 'within',\n",
       " 'the',\n",
       " 'organization',\n",
       " 'and',\n",
       " 'flesh',\n",
       " 'out',\n",
       " 'the',\n",
       " 'existing',\n",
       " 'cs',\n",
       " 'function',\n",
       " 'identifying',\n",
       " 'areas',\n",
       " 'of',\n",
       " 'improvement',\n",
       " 'professionalism',\n",
       " 'in',\n",
       " 'dealing',\n",
       " 'with',\n",
       " 'fortune',\n",
       " 'clients',\n",
       " 'and',\n",
       " 'familiarity',\n",
       " 'liasing',\n",
       " 'with',\n",
       " 'suite',\n",
       " 'executives',\n",
       " 'ability',\n",
       " 'to',\n",
       " 'work',\n",
       " 'in',\n",
       " 'tandem',\n",
       " 'with',\n",
       " 'the',\n",
       " 'head',\n",
       " 'of',\n",
       " 'sales',\n",
       " 'and',\n",
       " 'other',\n",
       " 'teams',\n",
       " 'within',\n",
       " 'the',\n",
       " 'organization']"
      ]
     },
     "execution_count": 17,
     "metadata": {},
     "output_type": "execute_result"
    }
   ],
   "source": [
    "simple_preprocess(df.sample()['description'].values[0])"
   ]
  },
  {
   "cell_type": "code",
   "execution_count": 18,
   "metadata": {},
   "outputs": [],
   "source": [
    "descr_corpus = df['description'].map(simple_preprocess)\n",
    "descr_bigram = Phraser(Phrases(title_corpus, min_count=1, threshold=1))"
   ]
  },
  {
   "cell_type": "code",
   "execution_count": 19,
   "metadata": {},
   "outputs": [],
   "source": [
    "# ext_corp = list(prepare_corpus(descr_corpus, descr_bigram))\n",
    "descr_model = Word2Vec(ext_corp, size=100, window=2, min_count=1)"
   ]
  },
  {
   "cell_type": "code",
   "execution_count": 20,
   "metadata": {},
   "outputs": [
    {
     "data": {
      "text/plain": [
       "[('python_developer', 0.9856449961662292),\n",
       " ('senior_react', 0.9807460904121399),\n",
       " ('react', 0.9772253632545471),\n",
       " ('ios', 0.9742727279663086),\n",
       " ('exadata', 0.9733853340148926),\n",
       " ('core', 0.9715838432312012),\n",
       " ('android', 0.9713596701622009),\n",
       " ('java', 0.9712833166122437),\n",
       " ('servicenow', 0.9708343148231506),\n",
       " ('database', 0.9693511724472046)]"
      ]
     },
     "execution_count": 20,
     "metadata": {},
     "output_type": "execute_result"
    }
   ],
   "source": [
    "descr_model.wv.most_similar('python')"
   ]
  },
  {
   "cell_type": "code",
   "execution_count": 21,
   "metadata": {},
   "outputs": [
    {
     "data": {
      "text/plain": [
       "[('java', 0.9791979789733887),\n",
       " ('android', 0.9709876775741577),\n",
       " ('backend', 0.9688427448272705),\n",
       " ('ios', 0.9669768810272217),\n",
       " ('sfdc', 0.9667401909828186),\n",
       " ('computer_vision', 0.9659461975097656),\n",
       " ('sr_java', 0.962591826915741),\n",
       " ('react', 0.9625830054283142),\n",
       " ('core', 0.9623101949691772),\n",
       " ('database', 0.9612717628479004)]"
      ]
     },
     "execution_count": 21,
     "metadata": {},
     "output_type": "execute_result"
    }
   ],
   "source": [
    "title_model.wv.most_similar('python')"
   ]
  },
  {
   "cell_type": "code",
   "execution_count": 22,
   "metadata": {},
   "outputs": [
    {
     "data": {
      "text/plain": [
       "array([list(['Position ID: M-13-B03', 'Position/Project Name: Mission Capability Systems Engineer', 'The Mission (Technology Insertion) Capability Engineer (MCE) will provide engineering support for the NGA FAST Trak Missionization initiative supporting NGA/TD GEOINT Services Office. The MCE will lead the integration of traditional, non-traditional, and emerging innovative solutions through Platform as a Service (PaaS) implementation in cloud environments. The MCE will assess Enterprise CONOPS and work flows using agile SE&I processes to refine mission needs into implementable GEOINT capabilities, services, and technology insertions, and, enable new ways to effectively satisfy mission needs. The MCE ensures the implementation for specific mission capability projects to achieve established objectives. The MCE provides requisite capabilities and services to meet mission and GEOINT community user needs and complies with the enterprise technical architecture and security standards, while keeping project management apprised of GEOINT services integration activities.', 'Key Skills: NGA/GEOINT, GEOINT/GIS Analytic Tradecraft, Systems Engineering & Integration, Agile (SAFe)Technology or Tech Insertion, Platform-As-A-Service (PaaS), API Management, microservices, Dev/SecOps, DevOps, A&A, Cloud (AWS), R&D, IRAD Project Leadership/Project Engineering', 'Provide SE&I project leadership and technical guidance serving specific GEOINT Services initiatives', 'Understand/Analyze technological details of FAST Trak technology insertion capabilities to include interfaces and dependencies both internal and external to NSG', 'Understand Risk Management, security engineering and the assessment and accreditation activities required for cloud integration', 'Integrate FAST Trak Technology Insertion Capability across enterprise stakeholders ensuring alignment of requirements and scheduled activities, to deliver fully integrated and functional GEOINT Services', 'Coordinate specific FAST Trak initiative test events including both formal and informal testing activities', 'Lead/Coordinate specific FAST Trak initiative transition events, ensuring all required mission capabilities and services are delivered into operations in an efficient and coordinated manner, with a minimum of disruption to on-going operations', 'Create various communication artifacts to support assigned FAST Trak capability, status and user briefings and reports', 'Required Qualifications', 'Active TS/SCI (with current SSBI within 5 years and serving in an active SCI billet within the last 2 years)', 'BS in Engineering, Computer Science, Information Systems, Math, or related scientific or technical discipline', '16 years IT SE&I process/SLC (e.g., enterprise capability integration, AoA, agile implementation) experience, with 10 years of recent agency specific experience', '5 years SE&I experience working with NSG/NGA/GEOINT/GIS or Mission Partner/IC/DoD systems/segments', 'Experience with SAFe model-based/agile software SE&I (e.g., using JIRA, Confluence, Bamboo, Fisheye to manage Portfolio/Project/Product Backlogs and SCRUMs, perform Sprint and Release Planning, Retrospectives)', 'Knowledge of/demonstrated proficiency applying SE&I processes (eg, producing SE artifacts, utility/needs analysis, interface definition, implementation planning, tech insertion, risk management, A&A and CTF certs, and ATO)', 'Able to identify/derive mission capability needs from CONOPS and mission workflows, and to identify technology gaps in current capabilities/processes, and to perform tech insertion into mission migration strategy', 'Working knowledge of cloud implementation concepts (e.g., DevOps, PaaS, API Management, PCF, microservices), and commercial cloud technologies and services with emphasis on best practices for use of features available within Amazon Web Services (AWS)', 'Strong interpersonal, problem-solving, organizational, client relationship, multi-tasking, load-balancing skills', 'Ability to interface and effectively communicate both with mission and technical personnel at multiple levels', 'Self-starter and able to manage multiple tasks and changing priorities with ability to work independently and within a team environment', 'Desired Qualifications', 'MS in Engineering, Computer Science, Information Systems, Math or related scientific or technical discipline', '5 years Analyst experience working with NSG/NGA/GEOINT/GIS or Mission Partner/IC/DoD system/segments', 'Relevant EA/SA (Architect), SE&I (INCOSE), IT (ITIL), Security (CISSP), Agile (Agilist, CSM) certs', 'SAFe exp.', 'Knowledge of NGA Strategic Objectives and Initiatives (ABI, SOM, OBP, GB, MoW, GEOINT Services)', 'Working knowledge of NSG and NGA agile acquisition, baseline control, change management/CM processes', 'Experience in commercial/defense industry IT Systems and Technologies, including product workflows, information operations and assurance, content architectures, data standards, and industry best practices', 'Technical Portfolio/Project/Task Management / Technical Team Leadership / Project Engineering experience', 'Experience with NGA/IC/DoD integrated intel innovation initiatives/programs/prototypes implementation, mission capability & services pathfinders SE&I, user engagement, embedded engineering, agile implementation processes', 'Experience in system activity and data modeling, information flow/transaction process analysis, internal control and risk analysis, GEOINT business methods and tradecraft, performance measurement techniques', \"Demonstrated working knowledge of NSG/ASG Enterprise org's, leadership, architectures, programs, systems\", 'InTec, LLC is a Service Disabled Veteran Owned Small Business (SDVOSB) located in Northern Virginia. Our mission is to provide high quality, cost effective solutions that will provide long term value to our customers and the Nation. InTec Management believes our employees’ welfare is paramount to good business and so provides a compensation and benefits package which reflects our corporate policy and befits our seasoned professionals.', 'InTec is an Equal Opportunity Employer', 'Position ID: M-13-B03 SI5'])],\n",
       "      dtype=object)"
      ]
     },
     "execution_count": 22,
     "metadata": {},
     "output_type": "execute_result"
    }
   ],
   "source": [
    "df.sample()['description'].map(literal_eval).values"
   ]
  },
  {
   "cell_type": "code",
   "execution_count": null,
   "metadata": {},
   "outputs": [],
   "source": []
  }
 ],
 "metadata": {
  "kernelspec": {
   "display_name": "Python 3",
   "language": "python",
   "name": "python3"
  },
  "language_info": {
   "codemirror_mode": {
    "name": "ipython",
    "version": 3
   },
   "file_extension": ".py",
   "mimetype": "text/x-python",
   "name": "python",
   "nbconvert_exporter": "python",
   "pygments_lexer": "ipython3",
   "version": "3.7.3"
  }
 },
 "nbformat": 4,
 "nbformat_minor": 2
}
